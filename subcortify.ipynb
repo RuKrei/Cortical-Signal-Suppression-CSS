{
 "cells": [
  {
   "cell_type": "code",
   "execution_count": 1,
   "metadata": {},
   "outputs": [],
   "source": [
    "import numpy as np\n",
    "import matplotlib.pyplot as plt\n",
    "import mne\n",
    "import os\n"
   ]
  },
  {
   "cell_type": "code",
   "execution_count": 13,
   "metadata": {
    "tags": []
   },
   "outputs": [
    {
     "output_type": "stream",
     "name": "stdout",
     "text": "Opening raw data file /home/idrael/Playground/MEG/BF28011991/derivatives/intermediates/BF28011991_Block1_preproc_eve_raw.fif...\n    Read a total of 3 projection items:\n        ECG-planar--0.500-0.500-PCA-01 (1 x 204) active\n        ECG-axial--0.500-0.500-PCA-01 (1 x 102) active\n        ECG-eeg--0.500-0.500-PCA-01 (1 x 64) active\n    Range : 10500 ... 316249 =     42.000 ...  1264.996 secs\nReady.\nCurrent compensation grade : 0\nReading 0 ... 2500  =      0.000 ...    10.000 secs...\nFiltering raw data in 1 contiguous segment\nSetting up band-pass filter from 1 - 40 Hz\n\nFIR filter parameters\n---------------------\nDesigning a one-pass, zero-phase, non-causal bandpass filter:\n- Windowed time-domain design (firwin) method\n- Hamming window with 0.0194 passband ripple and 53 dB stopband attenuation\n- Lower passband edge: 1.00\n- Lower transition bandwidth: 1.00 Hz (-6 dB cutoff frequency: 0.50 Hz)\n- Upper passband edge: 40.00 Hz\n- Upper transition bandwidth: 10.00 Hz (-6 dB cutoff frequency: 45.00 Hz)\n- Filter length: 825 samples (3.300 sec)\n\n"
    }
   ],
   "source": [
    "raw_file = '/home/idrael/Playground/MEG/BF28011991/derivatives/intermediates/BF28011991_Block1_preproc_eve_raw.fif'\n",
    "raw = mne.io.read_raw_fif(raw_file).crop(tmax=10).load_data().filter(1,40)"
   ]
  },
  {
   "cell_type": "code",
   "execution_count": 18,
   "metadata": {},
   "outputs": [],
   "source": [
    "def filter_cort(subspace_data1, subspace_data2, filterdata, r=6):\n",
    "    \n",
    "    Qg,rg = np.linalg.qr(subspace_data2.T)\n",
    "    Qm,rm = np.linalg.qr(subspace_data1.T)\n",
    "    C = np.dot(Qg.T,Qm)\n",
    "    Y,S,Z = np.linalg.svd(C)\n",
    "    u = np.matrix(np.dot(Qg,Y))\n",
    "    \n",
    "    Nmag = np.matrix(filterdata)\n",
    "    for i in range(r):\n",
    "        NpProj = np.dot(Nmag,u[:,i]);\n",
    "        Nmag = Nmag - np.dot(NpProj,u[:,i].T);\n",
    "     \n",
    "    return np.asarray(Nmag)\n",
    "    \n",
    "def subcortify(raw):\n",
    "    # first pick meg channels only\n",
    "    #picks = mne.pick_types(raw.info, meg=True, exclude = 'bads')\n",
    "\n",
    "\n",
    "    mag_ev = raw.copy()\n",
    "    grad_ev = raw.copy()\n",
    "    grad_ev = grad_ev.pick_types(meg='grad')\n",
    "    mag_ev = mag_ev.pick_types(meg='mag')\n",
    "\n",
    "    mag_data_raw = mag_ev.get_data()\n",
    "    grad_data = grad_ev.get_data()\n",
    "\n",
    "    #Remove cortical signals with SECS\n",
    "    subcortical_signal = filter_cort(subspace_data1 = mag_data_raw, subspace_data2 = grad_data, filterdata = mag_data_raw, r=6)\n",
    "    subcortical_signal = np.asarray(subcortical_signal)\n",
    "    return subcortical_signal"
   ]
  },
  {
   "cell_type": "code",
   "execution_count": 29,
   "metadata": {
    "tags": []
   },
   "outputs": [
    {
     "output_type": "error",
     "ename": "ValueError",
     "evalue": "No channels match the selection.",
     "traceback": [
      "\u001b[0;31m---------------------------------------------------------------------------\u001b[0m",
      "\u001b[0;31mValueError\u001b[0m                                Traceback (most recent call last)",
      "\u001b[0;32m<ipython-input-29-412d4a7d1f93>\u001b[0m in \u001b[0;36m<module>\u001b[0;34m\u001b[0m\n\u001b[0;32m----> 1\u001b[0;31m \u001b[0msubcortical_mag_signal\u001b[0m \u001b[0;34m=\u001b[0m \u001b[0msubcortify\u001b[0m\u001b[0;34m(\u001b[0m\u001b[0mraw\u001b[0m\u001b[0;34m)\u001b[0m\u001b[0;34m\u001b[0m\u001b[0;34m\u001b[0m\u001b[0m\n\u001b[0m\u001b[1;32m      2\u001b[0m \u001b[0mprint\u001b[0m\u001b[0;34m(\u001b[0m\u001b[0msubcortical_mag_signal\u001b[0m\u001b[0;34m.\u001b[0m\u001b[0mshape\u001b[0m\u001b[0;34m)\u001b[0m\u001b[0;34m\u001b[0m\u001b[0;34m\u001b[0m\u001b[0m\n\u001b[1;32m      3\u001b[0m \u001b[0mraw\u001b[0m\u001b[0;34m.\u001b[0m\u001b[0mpick_types\u001b[0m\u001b[0;34m(\u001b[0m\u001b[0mmeg\u001b[0m\u001b[0;34m=\u001b[0m\u001b[0;32mTrue\u001b[0m\u001b[0;34m)\u001b[0m\u001b[0;34m\u001b[0m\u001b[0;34m\u001b[0m\u001b[0m\n\u001b[1;32m      4\u001b[0m \u001b[0mprint\u001b[0m\u001b[0;34m(\u001b[0m\u001b[0mraw\u001b[0m\u001b[0;34m.\u001b[0m\u001b[0mget_data\u001b[0m\u001b[0;34m(\u001b[0m\u001b[0;34m)\u001b[0m\u001b[0;34m.\u001b[0m\u001b[0mshape\u001b[0m\u001b[0;34m)\u001b[0m\u001b[0;34m\u001b[0m\u001b[0;34m\u001b[0m\u001b[0m\n",
      "\u001b[0;32m<ipython-input-18-811bcd4a40e0>\u001b[0m in \u001b[0;36msubcortify\u001b[0;34m(raw)\u001b[0m\n\u001b[1;32m     21\u001b[0m     \u001b[0mmag_ev\u001b[0m \u001b[0;34m=\u001b[0m \u001b[0mraw\u001b[0m\u001b[0;34m.\u001b[0m\u001b[0mcopy\u001b[0m\u001b[0;34m(\u001b[0m\u001b[0;34m)\u001b[0m\u001b[0;34m\u001b[0m\u001b[0;34m\u001b[0m\u001b[0m\n\u001b[1;32m     22\u001b[0m     \u001b[0mgrad_ev\u001b[0m \u001b[0;34m=\u001b[0m \u001b[0mraw\u001b[0m\u001b[0;34m.\u001b[0m\u001b[0mcopy\u001b[0m\u001b[0;34m(\u001b[0m\u001b[0;34m)\u001b[0m\u001b[0;34m\u001b[0m\u001b[0;34m\u001b[0m\u001b[0m\n\u001b[0;32m---> 23\u001b[0;31m     \u001b[0mgrad_ev\u001b[0m \u001b[0;34m=\u001b[0m \u001b[0mgrad_ev\u001b[0m\u001b[0;34m.\u001b[0m\u001b[0mpick_types\u001b[0m\u001b[0;34m(\u001b[0m\u001b[0mmeg\u001b[0m\u001b[0;34m=\u001b[0m\u001b[0;34m'grad'\u001b[0m\u001b[0;34m)\u001b[0m\u001b[0;34m\u001b[0m\u001b[0;34m\u001b[0m\u001b[0m\n\u001b[0m\u001b[1;32m     24\u001b[0m     \u001b[0mmag_ev\u001b[0m \u001b[0;34m=\u001b[0m \u001b[0mmag_ev\u001b[0m\u001b[0;34m.\u001b[0m\u001b[0mpick_types\u001b[0m\u001b[0;34m(\u001b[0m\u001b[0mmeg\u001b[0m\u001b[0;34m=\u001b[0m\u001b[0;34m'mag'\u001b[0m\u001b[0;34m)\u001b[0m\u001b[0;34m\u001b[0m\u001b[0;34m\u001b[0m\u001b[0m\n\u001b[1;32m     25\u001b[0m \u001b[0;34m\u001b[0m\u001b[0m\n",
      "\u001b[0;32m<decorator-gen-33>\u001b[0m in \u001b[0;36mpick_types\u001b[0;34m(self, meg, eeg, stim, eog, ecg, emg, ref_meg, misc, resp, chpi, exci, ias, syst, seeg, dipole, gof, bio, ecog, fnirs, csd, include, exclude, selection, verbose)\u001b[0m\n",
      "\u001b[0;32m~/miniconda3/envs/ml/lib/python3.7/site-packages/mne/channels/channels.py\u001b[0m in \u001b[0;36mpick_types\u001b[0;34m(self, meg, eeg, stim, eog, ecg, emg, ref_meg, misc, resp, chpi, exci, ias, syst, seeg, dipole, gof, bio, ecog, fnirs, csd, include, exclude, selection, verbose)\u001b[0m\n\u001b[1;32m    707\u001b[0m             \u001b[0mecog\u001b[0m\u001b[0;34m=\u001b[0m\u001b[0mecog\u001b[0m\u001b[0;34m,\u001b[0m \u001b[0mfnirs\u001b[0m\u001b[0;34m=\u001b[0m\u001b[0mfnirs\u001b[0m\u001b[0;34m,\u001b[0m \u001b[0minclude\u001b[0m\u001b[0;34m=\u001b[0m\u001b[0minclude\u001b[0m\u001b[0;34m,\u001b[0m \u001b[0mexclude\u001b[0m\u001b[0;34m=\u001b[0m\u001b[0mexclude\u001b[0m\u001b[0;34m,\u001b[0m\u001b[0;34m\u001b[0m\u001b[0;34m\u001b[0m\u001b[0m\n\u001b[1;32m    708\u001b[0m             selection=selection)\n\u001b[0;32m--> 709\u001b[0;31m         \u001b[0;32mreturn\u001b[0m \u001b[0mself\u001b[0m\u001b[0;34m.\u001b[0m\u001b[0m_pick_drop_channels\u001b[0m\u001b[0;34m(\u001b[0m\u001b[0midx\u001b[0m\u001b[0;34m)\u001b[0m\u001b[0;34m\u001b[0m\u001b[0;34m\u001b[0m\u001b[0m\n\u001b[0m\u001b[1;32m    710\u001b[0m \u001b[0;34m\u001b[0m\u001b[0m\n\u001b[1;32m    711\u001b[0m     \u001b[0;32mdef\u001b[0m \u001b[0mpick_channels\u001b[0m\u001b[0;34m(\u001b[0m\u001b[0mself\u001b[0m\u001b[0;34m,\u001b[0m \u001b[0mch_names\u001b[0m\u001b[0;34m,\u001b[0m \u001b[0mordered\u001b[0m\u001b[0;34m=\u001b[0m\u001b[0;32mFalse\u001b[0m\u001b[0;34m)\u001b[0m\u001b[0;34m:\u001b[0m\u001b[0;34m\u001b[0m\u001b[0;34m\u001b[0m\u001b[0m\n",
      "\u001b[0;32m~/miniconda3/envs/ml/lib/python3.7/site-packages/mne/channels/channels.py\u001b[0m in \u001b[0;36m_pick_drop_channels\u001b[0;34m(self, idx)\u001b[0m\n\u001b[1;32m    857\u001b[0m             \u001b[0mself\u001b[0m\u001b[0;34m.\u001b[0m\u001b[0m_cals\u001b[0m \u001b[0;34m=\u001b[0m \u001b[0mself\u001b[0m\u001b[0;34m.\u001b[0m\u001b[0m_cals\u001b[0m\u001b[0;34m[\u001b[0m\u001b[0midx\u001b[0m\u001b[0;34m]\u001b[0m\u001b[0;34m\u001b[0m\u001b[0;34m\u001b[0m\u001b[0m\n\u001b[1;32m    858\u001b[0m \u001b[0;34m\u001b[0m\u001b[0m\n\u001b[0;32m--> 859\u001b[0;31m         \u001b[0mpick_info\u001b[0m\u001b[0;34m(\u001b[0m\u001b[0mself\u001b[0m\u001b[0;34m.\u001b[0m\u001b[0minfo\u001b[0m\u001b[0;34m,\u001b[0m \u001b[0midx\u001b[0m\u001b[0;34m,\u001b[0m \u001b[0mcopy\u001b[0m\u001b[0;34m=\u001b[0m\u001b[0;32mFalse\u001b[0m\u001b[0;34m)\u001b[0m\u001b[0;34m\u001b[0m\u001b[0;34m\u001b[0m\u001b[0m\n\u001b[0m\u001b[1;32m    860\u001b[0m \u001b[0;34m\u001b[0m\u001b[0m\n\u001b[1;32m    861\u001b[0m         \u001b[0;32mif\u001b[0m \u001b[0mgetattr\u001b[0m\u001b[0;34m(\u001b[0m\u001b[0mself\u001b[0m\u001b[0;34m,\u001b[0m \u001b[0;34m'_projector'\u001b[0m\u001b[0;34m,\u001b[0m \u001b[0;32mNone\u001b[0m\u001b[0;34m)\u001b[0m \u001b[0;32mis\u001b[0m \u001b[0;32mnot\u001b[0m \u001b[0;32mNone\u001b[0m\u001b[0;34m:\u001b[0m\u001b[0;34m\u001b[0m\u001b[0;34m\u001b[0m\u001b[0m\n",
      "\u001b[0;32m<decorator-gen-8>\u001b[0m in \u001b[0;36mpick_info\u001b[0;34m(info, sel, copy, verbose)\u001b[0m\n",
      "\u001b[0;32m~/miniconda3/envs/ml/lib/python3.7/site-packages/mne/io/pick.py\u001b[0m in \u001b[0;36mpick_info\u001b[0;34m(info, sel, copy, verbose)\u001b[0m\n\u001b[1;32m    473\u001b[0m         \u001b[0;32mreturn\u001b[0m \u001b[0minfo\u001b[0m\u001b[0;34m\u001b[0m\u001b[0;34m\u001b[0m\u001b[0m\n\u001b[1;32m    474\u001b[0m     \u001b[0;32melif\u001b[0m \u001b[0mlen\u001b[0m\u001b[0;34m(\u001b[0m\u001b[0msel\u001b[0m\u001b[0;34m)\u001b[0m \u001b[0;34m==\u001b[0m \u001b[0;36m0\u001b[0m\u001b[0;34m:\u001b[0m\u001b[0;34m\u001b[0m\u001b[0;34m\u001b[0m\u001b[0m\n\u001b[0;32m--> 475\u001b[0;31m         \u001b[0;32mraise\u001b[0m \u001b[0mValueError\u001b[0m\u001b[0;34m(\u001b[0m\u001b[0;34m'No channels match the selection.'\u001b[0m\u001b[0;34m)\u001b[0m\u001b[0;34m\u001b[0m\u001b[0;34m\u001b[0m\u001b[0m\n\u001b[0m\u001b[1;32m    476\u001b[0m     \u001b[0mn_unique\u001b[0m \u001b[0;34m=\u001b[0m \u001b[0mlen\u001b[0m\u001b[0;34m(\u001b[0m\u001b[0mnp\u001b[0m\u001b[0;34m.\u001b[0m\u001b[0munique\u001b[0m\u001b[0;34m(\u001b[0m\u001b[0mnp\u001b[0m\u001b[0;34m.\u001b[0m\u001b[0marange\u001b[0m\u001b[0;34m(\u001b[0m\u001b[0mlen\u001b[0m\u001b[0;34m(\u001b[0m\u001b[0minfo\u001b[0m\u001b[0;34m[\u001b[0m\u001b[0;34m'ch_names'\u001b[0m\u001b[0;34m]\u001b[0m\u001b[0;34m)\u001b[0m\u001b[0;34m)\u001b[0m\u001b[0;34m[\u001b[0m\u001b[0msel\u001b[0m\u001b[0;34m]\u001b[0m\u001b[0;34m)\u001b[0m\u001b[0;34m)\u001b[0m\u001b[0;34m\u001b[0m\u001b[0;34m\u001b[0m\u001b[0m\n\u001b[1;32m    477\u001b[0m     \u001b[0;32mif\u001b[0m \u001b[0mn_unique\u001b[0m \u001b[0;34m!=\u001b[0m \u001b[0mlen\u001b[0m\u001b[0;34m(\u001b[0m\u001b[0msel\u001b[0m\u001b[0;34m)\u001b[0m\u001b[0;34m:\u001b[0m\u001b[0;34m\u001b[0m\u001b[0;34m\u001b[0m\u001b[0m\n",
      "\u001b[0;31mValueError\u001b[0m: No channels match the selection."
     ]
    }
   ],
   "source": [
    "subcortical_mag_signal = subcortify(raw)\n",
    "print(subcortical_mag_signal.shape)\n",
    "raw.pick_types(meg=True)\n",
    "print(raw.get_data().shape)\n"
   ]
  },
  {
   "cell_type": "code",
   "execution_count": 26,
   "metadata": {},
   "outputs": [
    {
     "output_type": "execute_result",
     "data": {
      "text/plain": "['MEG0111',\n 'MEG0121',\n 'MEG0131',\n 'MEG0141',\n 'MEG0211',\n 'MEG0221',\n 'MEG0231',\n 'MEG0241',\n 'MEG0311',\n 'MEG0321',\n 'MEG0331',\n 'MEG0341',\n 'MEG0411',\n 'MEG0421',\n 'MEG0431',\n 'MEG0441',\n 'MEG0511',\n 'MEG0521',\n 'MEG0531',\n 'MEG0541',\n 'MEG0611',\n 'MEG0621',\n 'MEG0631',\n 'MEG0641',\n 'MEG0711',\n 'MEG0721',\n 'MEG0731',\n 'MEG0741',\n 'MEG0811',\n 'MEG0821',\n 'MEG0911',\n 'MEG0921',\n 'MEG0931',\n 'MEG0941',\n 'MEG1011',\n 'MEG1021',\n 'MEG1031',\n 'MEG1041',\n 'MEG1111',\n 'MEG1121',\n 'MEG1131',\n 'MEG1141',\n 'MEG1211',\n 'MEG1221',\n 'MEG1231',\n 'MEG1241',\n 'MEG1311',\n 'MEG1321',\n 'MEG1331',\n 'MEG1341',\n 'MEG1411',\n 'MEG1421',\n 'MEG1431',\n 'MEG1441',\n 'MEG1511',\n 'MEG1521',\n 'MEG1531',\n 'MEG1541',\n 'MEG1611',\n 'MEG1621',\n 'MEG1631',\n 'MEG1641',\n 'MEG1711',\n 'MEG1721',\n 'MEG1731',\n 'MEG1741',\n 'MEG1811',\n 'MEG1821',\n 'MEG1831',\n 'MEG1841',\n 'MEG1911',\n 'MEG1921',\n 'MEG1931',\n 'MEG1941',\n 'MEG2011',\n 'MEG2021',\n 'MEG2031',\n 'MEG2041',\n 'MEG2111',\n 'MEG2121',\n 'MEG2131',\n 'MEG2141',\n 'MEG2211',\n 'MEG2221',\n 'MEG2231',\n 'MEG2241',\n 'MEG2311',\n 'MEG2321',\n 'MEG2331',\n 'MEG2341',\n 'MEG2411',\n 'MEG2421',\n 'MEG2431',\n 'MEG2441',\n 'MEG2511',\n 'MEG2521',\n 'MEG2531',\n 'MEG2541',\n 'MEG2611',\n 'MEG2621',\n 'MEG2631',\n 'MEG2641']"
     },
     "metadata": {},
     "execution_count": 26
    }
   ],
   "source": [
    "raw.pick_types(meg='mag').ch_names"
   ]
  },
  {
   "cell_type": "code",
   "execution_count": null,
   "metadata": {},
   "outputs": [],
   "source": []
  }
 ],
 "metadata": {
  "language_info": {
   "codemirror_mode": {
    "name": "ipython",
    "version": 3
   },
   "file_extension": ".py",
   "mimetype": "text/x-python",
   "name": "python",
   "nbconvert_exporter": "python",
   "pygments_lexer": "ipython3",
   "version": 3
  },
  "orig_nbformat": 2,
  "kernelspec": {
   "name": "python_defaultSpec_1594839463045",
   "display_name": "Python 3.7.7 64-bit ('ml': conda)"
  }
 },
 "nbformat": 4,
 "nbformat_minor": 2
}